{
 "cells": [
  {
   "cell_type": "code",
   "execution_count": 33,
   "id": "coastal-hunter",
   "metadata": {},
   "outputs": [],
   "source": [
    "%run name_basics_beam.py"
   ]
  },
  {
   "cell_type": "code",
   "execution_count": 36,
   "id": "instant-model",
   "metadata": {},
   "outputs": [],
   "source": [
    "%run bollywood_actors_beam.py"
   ]
  },
  {
   "cell_type": "code",
   "execution_count": 2,
   "id": "pretty-designer",
   "metadata": {},
   "outputs": [],
   "source": [
    "%run bollywood_beam.py"
   ]
  },
  {
   "cell_type": "code",
   "execution_count": 2,
   "id": "north-partner",
   "metadata": {},
   "outputs": [],
   "source": [
    "%run bollywood_actress_beam.py"
   ]
  },
  {
   "cell_type": "code",
   "execution_count": 6,
   "id": "together-spouse",
   "metadata": {},
   "outputs": [
    {
     "name": "stdout",
     "output_type": "stream",
     "text": [
      "Waiting on bqjob_r12014ab00f765aa8_00000179448860d4_1 ... (0s) Current status: DONE   \n",
      "+-------+\n",
      "| count |\n",
      "+-------+\n",
      "|   500 |\n",
      "+-------+\n"
     ]
    }
   ],
   "source": [
    "!bq query --nouse_legacy_sql \\\n",
    "\"select count(distinct nconst) as count from datamart.name_basics_beam\""
   ]
  },
  {
   "cell_type": "code",
   "execution_count": 7,
   "id": "diverse-snowboard",
   "metadata": {},
   "outputs": [
    {
     "name": "stdout",
     "output_type": "stream",
     "text": [
      "Waiting on bqjob_r72c437baf6460d15_000001794385f11e_1 ... (0s) Current status: DONE   \n",
      "+-------+\n",
      "| count |\n",
      "+-------+\n",
      "|   500 |\n",
      "+-------+\n"
     ]
    }
   ],
   "source": [
    "!bq query --nouse_legacy_sql \\\n",
    "\"select count(*) as count from datamart.name_basics_beam\""
   ]
  },
  {
   "cell_type": "code",
   "execution_count": 7,
   "id": "decimal-demographic",
   "metadata": {},
   "outputs": [
    {
     "name": "stdout",
     "output_type": "stream",
     "text": [
      "Waiting on bqjob_r38b8b74a6ceda214_0000017944886d72_1 ... (0s) Current status: DONE   \n",
      "+-------+\n",
      "| count |\n",
      "+-------+\n",
      "|   139 |\n",
      "+-------+\n"
     ]
    }
   ],
   "source": [
    "!bq query --nouse_legacy_sql \\\n",
    "\"select count(distinct to_json_string((firstName, lastName))) as count from datamart.bollywood_actors_beam\""
   ]
  },
  {
   "cell_type": "code",
   "execution_count": 8,
   "id": "sophisticated-pressure",
   "metadata": {},
   "outputs": [
    {
     "name": "stdout",
     "output_type": "stream",
     "text": [
      "Waiting on bqjob_r610bbf917e0dd4df_00000179448876b5_1 ... (0s) Current status: DONE   \n",
      "+-------+\n",
      "| count |\n",
      "+-------+\n",
      "|   139 |\n",
      "+-------+\n"
     ]
    }
   ],
   "source": [
    "!bq query --nouse_legacy_sql \\\n",
    "\"select count(*) as count from datamart.bollywood_actors_beam\""
   ]
  },
  {
   "cell_type": "code",
   "execution_count": 9,
   "id": "bored-botswana",
   "metadata": {},
   "outputs": [
    {
     "name": "stdout",
     "output_type": "stream",
     "text": [
      "Waiting on bqjob_r514aa9a3fd89cb8f_00000179448883cd_1 ... (0s) Current status: DONE   \n",
      "+-------+\n",
      "| count |\n",
      "+-------+\n",
      "|    17 |\n",
      "+-------+\n"
     ]
    }
   ],
   "source": [
    "!bq query --nouse_legacy_sql \\\n",
    "\"select count(distinct to_json_string((firstName, lastName))) as count from datamart.bollywood_actress_beam\""
   ]
  },
  {
   "cell_type": "code",
   "execution_count": 3,
   "id": "boxed-immigration",
   "metadata": {},
   "outputs": [
    {
     "name": "stdout",
     "output_type": "stream",
     "text": [
      "Waiting on bqjob_r68a6badedb0ce77e_000001794487b5da_1 ... (0s) Current status: DONE   \n",
      "+-----+\n",
      "| f0_ |\n",
      "+-----+\n",
      "|  17 |\n",
      "+-----+\n"
     ]
    }
   ],
   "source": [
    "!bq query --nouse_legacy_sql \\\n",
    "\"select count(*) as count from datamart.bollywood_actress_beam\""
   ]
  },
  {
   "cell_type": "code",
   "execution_count": 10,
   "id": "alpine-focus",
   "metadata": {},
   "outputs": [
    {
     "name": "stdout",
     "output_type": "stream",
     "text": [
      "Waiting on bqjob_r144408077b5905c4_0000017944888f5c_1 ... (0s) Current status: DONE   \n",
      "+-------+\n",
      "| count |\n",
      "+-------+\n",
      "|   500 |\n",
      "+-------+\n"
     ]
    }
   ],
   "source": [
    "!bq query --nouse_legacy_sql \\\n",
    "\"select count(distinct to_json_string((Title, Director))) as count from datamart.bollywood_beam\""
   ]
  },
  {
   "cell_type": "code",
   "execution_count": 11,
   "id": "quantitative-infrared",
   "metadata": {},
   "outputs": [
    {
     "name": "stdout",
     "output_type": "stream",
     "text": [
      "Waiting on bqjob_r55ad85499b703569_00000179448899fa_1 ... (0s) Current status: DONE   \n",
      "+-------+\n",
      "| count |\n",
      "+-------+\n",
      "|   500 |\n",
      "+-------+\n"
     ]
    }
   ],
   "source": [
    "!bq query --nouse_legacy_sql \\\n",
    "\"select count(*) as count from datamart.bollywood_beam\""
   ]
  },
  {
   "cell_type": "code",
   "execution_count": 12,
   "id": "dimensional-cinema",
   "metadata": {},
   "outputs": [
    {
     "name": "stdout",
     "output_type": "stream",
     "text": [
      "Waiting on bqjob_r77448dcdd4d58231_000001794488b4f6_1 ... (2s) Current status: DONE   \n",
      "+----------+\n",
      "|  count   |\n",
      "+----------+\n",
      "| 44096064 |\n",
      "+----------+\n"
     ]
    }
   ],
   "source": [
    "!bq query --nouse_legacy_sql \\\n",
    "\"select count(*) as count from datamart.principals p left outer join datamart.name_basics_beam n on p.nconst=n.nconst where n.nconst is null\"\n",
    "# since there are now several unreferenced foreign keys, we need to remove keys that violate referential integrity"
   ]
  },
  {
   "cell_type": "code",
   "execution_count": 5,
   "id": "outside-injection",
   "metadata": {},
   "outputs": [],
   "source": [
    "%run principals_beam.py"
   ]
  },
  {
   "cell_type": "code",
   "execution_count": 13,
   "id": "protective-weekend",
   "metadata": {},
   "outputs": [
    {
     "name": "stdout",
     "output_type": "stream",
     "text": [
      "Waiting on bqjob_r56a1cccc83c9a56d_000001794488ce0c_1 ... (0s) Current status: DONE   \n",
      "+-------+\n",
      "| count |\n",
      "+-------+\n",
      "|     0 |\n",
      "+-------+\n"
     ]
    }
   ],
   "source": [
    "!bq query --nouse_legacy_sql \\\n",
    "\"select count(*) as count from datamart.principals_beam p left outer join datamart.name_basics_beam n on p.nconst=n.nconst where n.nconst is null\"\n",
    "# it's lit"
   ]
  },
  {
   "cell_type": "code",
   "execution_count": 22,
   "id": "final-check",
   "metadata": {},
   "outputs": [],
   "source": [
    "%run genres_beam.py"
   ]
  },
  {
   "cell_type": "code",
   "execution_count": 32,
   "id": "activated-atlas",
   "metadata": {},
   "outputs": [
    {
     "name": "stdout",
     "output_type": "stream",
     "text": [
      "Waiting on bqjob_r7a8dd2b1a89aede1_0000017944d8ff2f_1 ... (1s) Current status: DONE   \n",
      "Created ilitzkyzhou.datamart.genre_beam\n",
      "\n"
     ]
    }
   ],
   "source": [
    "!bq query --nouse_legacy_sql \\\n",
    "\"create table datamart.genre_beam as select distinct genre, sha1(genre) as genre_id from datamart.genre_join_beam\""
   ]
  },
  {
   "cell_type": "code",
   "execution_count": 33,
   "id": "italian-cooler",
   "metadata": {},
   "outputs": [
    {
     "name": "stdout",
     "output_type": "stream",
     "text": [
      "Waiting on bqjob_r5dd157b135705944_0000017944dd0e69_1 ... (0s) Current status: DONE   \n",
      "Replaced ilitzkyzhou.datamart.genre_join_beam\n",
      "\n"
     ]
    }
   ],
   "source": [
    "!bq query --nouse_legacy_sql \\\n",
    "\"create or replace table datamart.genre_join_beam as select g.genre_id, j.tconst from datamart.genre_beam g join datamart.genre_join_beam j on g.genre=j.genre\""
   ]
  },
  {
   "cell_type": "markdown",
   "id": "atlantic-force",
   "metadata": {},
   "source": [
    "If the tables were constructed correctly, both tables should have unique primary key identifiers, and also follow referential integrity:"
   ]
  },
  {
   "cell_type": "code",
   "execution_count": 34,
   "id": "affected-directory",
   "metadata": {},
   "outputs": [
    {
     "name": "stdout",
     "output_type": "stream",
     "text": [
      "Waiting on bqjob_r2092d09a659c4bcd_0000017944e0340b_1 ... (0s) Current status: DONE   \n",
      "+-----+\n",
      "| f0_ |\n",
      "+-----+\n",
      "|  27 |\n",
      "+-----+\n"
     ]
    }
   ],
   "source": [
    "!bq query --nouse_legacy_sql \\\n",
    "\"select count(distinct genre_id) from datamart.genre_beam\""
   ]
  },
  {
   "cell_type": "code",
   "execution_count": 35,
   "id": "educated-writer",
   "metadata": {},
   "outputs": [
    {
     "name": "stdout",
     "output_type": "stream",
     "text": [
      "Waiting on bqjob_r3653a77d534e91a_0000017944e04ff9_1 ... (0s) Current status: DONE   \n",
      "+-----+\n",
      "| f0_ |\n",
      "+-----+\n",
      "|  27 |\n",
      "+-----+\n"
     ]
    }
   ],
   "source": [
    "!bq query --nouse_legacy_sql \\\n",
    "\"select count(*) from datamart.genre_beam\""
   ]
  },
  {
   "cell_type": "code",
   "execution_count": 39,
   "id": "simplified-ministry",
   "metadata": {},
   "outputs": [
    {
     "name": "stdout",
     "output_type": "stream",
     "text": [
      "Waiting on bqjob_r7288c0cb9dd4a110_0000017944e5abd8_1 ... (0s) Current status: DONE   \n",
      "+-------+\n",
      "| count |\n",
      "+-------+\n",
      "|  1082 |\n",
      "+-------+\n"
     ]
    }
   ],
   "source": [
    "!bq query --nouse_legacy_sql \\\n",
    "\"select count(distinct to_json_string((genre_id, tconst))) as count from datamart.genre_join_beam\""
   ]
  },
  {
   "cell_type": "code",
   "execution_count": 40,
   "id": "balanced-matthew",
   "metadata": {},
   "outputs": [
    {
     "name": "stdout",
     "output_type": "stream",
     "text": [
      "Waiting on bqjob_r5832c19032b2cfe8_0000017944e5b727_1 ... (0s) Current status: DONE   \n",
      "+-------+\n",
      "| count |\n",
      "+-------+\n",
      "|  1082 |\n",
      "+-------+\n"
     ]
    }
   ],
   "source": [
    "!bq query --nouse_legacy_sql \\\n",
    "\"select count(*) as count from datamart.genre_join_beam\""
   ]
  },
  {
   "cell_type": "code",
   "execution_count": 42,
   "id": "empty-kennedy",
   "metadata": {},
   "outputs": [
    {
     "name": "stdout",
     "output_type": "stream",
     "text": [
      "Waiting on bqjob_r3628106e4f0e0027_0000017944e65598_1 ... (0s) Current status: DONE   \n",
      "+-------+\n",
      "| count |\n",
      "+-------+\n",
      "|     0 |\n",
      "+-------+\n"
     ]
    }
   ],
   "source": [
    "!bq query --nouse_legacy_sql \\\n",
    "\"select count(*) as count from datamart.genre_join_beam j left outer join datamart.genre_beam g on j.genre_id=g.genre_id where g.genre_id is null\""
   ]
  },
  {
   "cell_type": "code",
   "execution_count": null,
   "id": "worldwide-thirty",
   "metadata": {},
   "outputs": [],
   "source": []
  }
 ],
 "metadata": {
  "environment": {
   "name": "common-cpu.mnightly-2021-01-20-debian-10-test",
   "type": "gcloud",
   "uri": "gcr.io/deeplearning-platform-release/base-cpu:mnightly-2021-01-20-debian-10-test"
  },
  "kernelspec": {
   "display_name": "Python Beam",
   "language": "python",
   "name": "beam_kernel"
  },
  "language_info": {
   "codemirror_mode": {
    "name": "ipython",
    "version": 3
   },
   "file_extension": ".py",
   "mimetype": "text/x-python",
   "name": "python",
   "nbconvert_exporter": "python",
   "pygments_lexer": "ipython3",
   "version": "3.7.9"
  }
 },
 "nbformat": 4,
 "nbformat_minor": 5
}
