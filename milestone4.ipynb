{
 "cells": [
  {
   "cell_type": "code",
   "execution_count": 5,
   "id": "american-seafood",
   "metadata": {},
   "outputs": [],
   "source": [
    "%run bollywood_actors_dataflow.py"
   ]
  },
  {
   "cell_type": "code",
   "execution_count": 86,
   "id": "annoying-mouth",
   "metadata": {},
   "outputs": [],
   "source": [
    "%run bollywood_dataflow.py"
   ]
  },
  {
   "cell_type": "code",
   "execution_count": 87,
   "id": "considerable-peninsula",
   "metadata": {},
   "outputs": [],
   "source": [
    "%run bollywood_actress_dataflow.py"
   ]
  },
  {
   "cell_type": "code",
   "execution_count": 64,
   "id": "tender-reader",
   "metadata": {},
   "outputs": [],
   "source": [
    "%run name_basics_dataflow.py"
   ]
  },
  {
   "cell_type": "code",
   "execution_count": 2,
   "id": "particular-stylus",
   "metadata": {},
   "outputs": [],
   "source": [
    "%run genres_join_dataflow.py"
   ]
  },
  {
   "cell_type": "code",
   "execution_count": 39,
   "id": "built-prefix",
   "metadata": {},
   "outputs": [],
   "source": [
    "%run genres_dataflow.py"
   ]
  },
  {
   "cell_type": "code",
   "execution_count": 67,
   "id": "extensive-ratio",
   "metadata": {},
   "outputs": [
    {
     "name": "stdout",
     "output_type": "stream",
     "text": [
      "Waiting on bqjob_r1efa40e98017ac44_0000017964077c52_1 ... (22s) Current status: DONE   \n",
      "Replaced ilitzkyzhou.datamart.genre_join_dataflow\n",
      "\n"
     ]
    }
   ],
   "source": [
    "!bq query --nouse_legacy_sql \\\n",
    "\"create or replace table datamart.genre_join_dataflow as select g.genre_id, j.tconst from datamart.genre_dataflow g join datamart.genre_join_dataflow j on g.genre=j.genre\""
   ]
  },
  {
   "cell_type": "code",
   "execution_count": 55,
   "id": "funky-letters",
   "metadata": {},
   "outputs": [
    {
     "name": "stdout",
     "output_type": "stream",
     "text": [
      "Waiting on bqjob_r15f8d2705bae6ea5_0000017963d3e8f4_1 ... (0s) Current status: DONE   \n"
     ]
    }
   ],
   "source": [
    "!bq query --nouse_legacy_sql \\\n",
    "\"select firstName, lastName from datamart.bollywood_actors_dataflow group by firstName, lastName having count(*) > 1\""
   ]
  },
  {
   "cell_type": "code",
   "execution_count": 60,
   "id": "hispanic-massachusetts",
   "metadata": {},
   "outputs": [
    {
     "name": "stdout",
     "output_type": "stream",
     "text": [
      "Waiting on bqjob_r403b0c0a03936f9b_0000017963e30101_1 ... (0s) Current status: DONE   \n"
     ]
    }
   ],
   "source": [
    "!bq query --nouse_legacy_sql \\\n",
    "\"select firstName, lastName from datamart.bollywood_actress_dataflow group by firstName, lastName having count(*) > 1\""
   ]
  },
  {
   "cell_type": "code",
   "execution_count": 62,
   "id": "victorian-queens",
   "metadata": {},
   "outputs": [
    {
     "name": "stdout",
     "output_type": "stream",
     "text": [
      "Waiting on bqjob_r196267811792f5aa_0000017963e78325_1 ... (0s) Current status: DONE   \n"
     ]
    }
   ],
   "source": [
    "!bq query --nouse_legacy_sql \\\n",
    "\"select Title, Director from datamart.bollywood_dataflow group by Title, Director having count(*) > 1\""
   ]
  },
  {
   "cell_type": "code",
   "execution_count": 65,
   "id": "promotional-september",
   "metadata": {},
   "outputs": [
    {
     "name": "stdout",
     "output_type": "stream",
     "text": [
      "Waiting on bqjob_r64987ef13634702c_000001796404a277_1 ... (9s) Current status: DONE   \n"
     ]
    }
   ],
   "source": [
    "!bq query --nouse_legacy_sql \\\n",
    "\"select nconst from datamart.name_basics_dataflow group by nconst having count(*) > 1\""
   ]
  },
  {
   "cell_type": "code",
   "execution_count": 68,
   "id": "detected-white",
   "metadata": {},
   "outputs": [
    {
     "name": "stdout",
     "output_type": "stream",
     "text": [
      "Waiting on bqjob_r5b66b60a55a30943_00000179640a3db7_1 ... (14s) Current status: DONE   \n"
     ]
    }
   ],
   "source": [
    "!bq query --nouse_legacy_sql \\\n",
    "\"select genre_id, tconst from datamart.genre_join_dataflow group by genre_id,tconst having count(*) > 1\""
   ]
  },
  {
   "cell_type": "code",
   "execution_count": 69,
   "id": "approved-single",
   "metadata": {},
   "outputs": [
    {
     "name": "stdout",
     "output_type": "stream",
     "text": [
      "Waiting on bqjob_r46f38b93b90e3f97_00000179640a8478_1 ... (0s) Current status: DONE   \n"
     ]
    }
   ],
   "source": [
    "!bq query --nouse_legacy_sql \\\n",
    "\"select genre_id from datamart.genre_dataflow group by genre_id having count(*) > 1\""
   ]
  },
  {
   "cell_type": "code",
   "execution_count": 71,
   "id": "laughing-jimmy",
   "metadata": {},
   "outputs": [
    {
     "name": "stdout",
     "output_type": "stream",
     "text": [
      "Waiting on bqjob_r3a48ffc0a50b7a62_000001796413f77a_1 ... (0s) Current status: DONE   \n"
     ]
    }
   ],
   "source": [
    "!bq query --nouse_legacy_sql \\\n",
    "\"select a.firstName, a.lastName from datamart.bollywood_actress_dataflow a left outer join datamart.bollywood_dataflow b on b.Title=a.Debut_aslead_role where b.Title is null\""
   ]
  },
  {
   "cell_type": "markdown",
   "id": "meaning-wrestling",
   "metadata": {},
   "source": [
    "Distinct primary keys and valid child table references in the tables hold."
   ]
  },
  {
   "cell_type": "markdown",
   "id": "expensive-rebel",
   "metadata": {},
   "source": [
    "Due to the limited structure of the bollywood dataset, it is relatively difficult to get any meaningful cross-dataset queries from the data."
   ]
  },
  {
   "cell_type": "markdown",
   "id": "equivalent-leone",
   "metadata": {},
   "source": [
    "The goal within this query is to determine whether there exists a meaningful correlation between the release date of a bollywood title and the average Rating and number of reviews. This is one by doing a simple join between the bollywood_dataflow table and the titles table."
   ]
  },
  {
   "cell_type": "code",
   "execution_count": 7,
   "id": "operating-secret",
   "metadata": {},
   "outputs": [
    {
     "name": "stdout",
     "output_type": "stream",
     "text": [
      "Waiting on bqjob_r246e366474b7b1ae_0000017967bc54d9_1 ... (0s) Current status: DONE   \n",
      "+----------------+--------------+---------------+----------+\n",
      "| Numerical_Date | Release_Date | averageRating | numVotes |\n",
      "+----------------+--------------+---------------+----------+\n",
      "|         736666 |   2018-04-06 |           5.7 |        7 |\n",
      "|         735362 |   2014-09-12 |           5.1 |     2574 |\n",
      "|         733276 |   2008-12-26 |           7.5 |    13475 |\n",
      "|         733756 |   2010-04-16 |           3.1 |      485 |\n",
      "|         734621 |   2012-08-31 |           7.1 |      369 |\n",
      "|         734182 |   2011-06-17 |           4.0 |     1289 |\n",
      "|         735498 |   2015-01-23 |           8.0 |    53165 |\n",
      "|         736543 |   2017-12-08 |           6.3 |       35 |\n",
      "|         735713 |   2015-08-28 |           6.1 |      453 |\n",
      "|         735575 |   2015-04-10 |           3.7 |     1679 |\n",
      "+----------------+--------------+---------------+----------+\n"
     ]
    }
   ],
   "source": [
    "!bq query --nouse_legacy_sql \\\n",
    "\"select b.Numerical_Date, b.Release_Date, t.averageRating, t.numVotes from datamart.bollywood_dataflow b \\\n",
    "join datamart.title t on t.primaryTitle=b.Title where b.Numerical_Date is not null and t.averageRating is not null limit 10\""
   ]
  },
  {
   "cell_type": "code",
   "execution_count": 8,
   "id": "boring-beverage",
   "metadata": {},
   "outputs": [
    {
     "name": "stdout",
     "output_type": "stream",
     "text": [
      "Waiting on bqjob_r50b940c3d375d1b8_0000017967bd4fa0_1 ... (0s) Current status: DONE   \n",
      "Replaced ilitzkyzhou.reports.rating_over_time\n",
      "\n"
     ]
    }
   ],
   "source": [
    "!bq query --nouse_legacy_sql \\\n",
    "\"create or replace view reports.rating_over_time as select b.Numerical_Date, b.Release_Date, t.averageRating, t.numVotes from datamart.bollywood_dataflow b \\\n",
    "join datamart.title t on t.primaryTitle=b.Title where b.Numerical_Date is not null and t.averageRating is not null\""
   ]
  },
  {
   "cell_type": "code",
   "execution_count": 1,
   "id": "controlled-roommate",
   "metadata": {},
   "outputs": [
    {
     "name": "stdout",
     "output_type": "stream",
     "text": [
      "Waiting on bqjob_r2adae44598044ce6_00000179676162ef_1 ... (0s) Current status: DONE   \n",
      "Created ilitzkyzhou.reports.rating_by_actress\n",
      "\n"
     ]
    }
   ],
   "source": [
    "!bq query --nouse_legacy_sql \\\n",
    "\"create view reports.rating_by_actress as select a.firstName, a.lastName, t.primaryTitle, t.averageRating, t.numVotes from datamart.bollywood_actress_dataflow a join \\\n",
    "(select primaryTitle, avg(averageRating) as averageRating, sum(numVotes) as numVotes from datamart.title group by primaryTitle) t on t.primaryTitle=a.Debut_aslead_role \\\n",
    "where t.averageRating is not null order by averageRating desc\""
   ]
  },
  {
   "cell_type": "markdown",
   "id": "internal-worcester",
   "metadata": {},
   "source": [
    "We want to see if specific bollywood directors produce better received titles than others. This is done by joining the bollywood_dataflow table with the title table, and comparing the averageRating of each director by grouping by the Director. However, it is possible that the average rating is skewed for some directors with very low movies produced, so we filter out any director who has less than 5 movies directed."
   ]
  },
  {
   "cell_type": "code",
   "execution_count": 97,
   "id": "surgical-divorce",
   "metadata": {},
   "outputs": [
    {
     "name": "stdout",
     "output_type": "stream",
     "text": [
      "Waiting on bqjob_r36eafab221f8d2c3_0000017964b3e37c_1 ... (1s) Current status: DONE   \n",
      "+------------------------+-------------------+-----------+\n",
      "|        Director        |   averageRating   | numMovies |\n",
      "+------------------------+-------------------+-----------+\n",
      "| I. P. Tiwari           |               9.0 |         8 |\n",
      "| Ezra Mir               |               8.7 |        19 |\n",
      "| M. Sadiq, S.U. Sunny   |              8.52 |        24 |\n",
      "| A. N. Bannerjee        |               8.3 |         6 |\n",
      "| H. M. Reddy            |               8.2 |         5 |\n",
      "| Sampooran Singh Gulzar |               8.2 |        11 |\n",
      "| Farhan Akhtar          | 8.133333333333333 |         7 |\n",
      "| V. M. Gunjal           |               8.1 |        12 |\n",
      "| Rajkumar Hirani        |              8.04 |         8 |\n",
      "| Mamasaheb Shinde       |               8.0 |         6 |\n",
      "+------------------------+-------------------+-----------+\n"
     ]
    }
   ],
   "source": [
    "!bq query --nouse_legacy_sql \\\n",
    "\"select b.Director, avg(t.averageRating) as averageRating, count(*) as numMovies from datamart.bollywood_dataflow b join datamart.title t on t.primaryTitle=b.Title \\\n",
    "group by b.Director having numMovies >= 5 order by averageRating desc limit 10\""
   ]
  },
  {
   "cell_type": "code",
   "execution_count": 2,
   "id": "operating-bibliography",
   "metadata": {},
   "outputs": [
    {
     "name": "stdout",
     "output_type": "stream",
     "text": [
      "Waiting on bqjob_r22b08305e28edb01_000001796761c19f_1 ... (0s) Current status: DONE   \n",
      "Created ilitzkyzhou.reports.rating_by_director\n",
      "\n"
     ]
    }
   ],
   "source": [
    "!bq query --nouse_legacy_sql \\\n",
    "\"create view reports.rating_by_director as select b.Director, avg(t.averageRating) as averageRating, count(*) as numMovies from datamart.bollywood_dataflow b join datamart.title t on t.primaryTitle=b.Title \\\n",
    "group by b.Director having numMovies >= 5 order by averageRating desc limit 10\""
   ]
  },
  {
   "cell_type": "markdown",
   "id": "assisted-scheduling",
   "metadata": {},
   "source": [
    "We are aiming to see whether the month a movie was released in has any impact on its average rating, or the number of votes. This is done by joining the bollywood_dataflow table with the title table, and grouping the average rating and the total number of votes with the release month, which tells us the average rating and the total number of votes per month."
   ]
  },
  {
   "cell_type": "code",
   "execution_count": 51,
   "id": "sonic-telescope",
   "metadata": {},
   "outputs": [
    {
     "name": "stdout",
     "output_type": "stream",
     "text": [
      "Waiting on bqjob_r6ea0e85ed952cc58_0000017963bac592_1 ... (1s) Current status: DONE   \n",
      "+---------------+--------------------+----------+\n",
      "| Release_Month |   averageRating    | numVotes |\n",
      "+---------------+--------------------+----------+\n",
      "|             1 |  6.611343283582088 |  1018162 |\n",
      "|             2 | 6.4373493975903635 |  1110583 |\n",
      "|             3 |   6.70439276485788 |   596763 |\n",
      "|             4 |  6.665902578796562 |   459825 |\n",
      "|             5 | 6.5424124513618676 |   855088 |\n",
      "|             6 |  6.353723404255319 |   556955 |\n",
      "|             7 |  6.320652173913045 |   786715 |\n",
      "|             8 | 6.5854838709677415 |  1907714 |\n",
      "|             9 |  6.599770642201834 |  1437652 |\n",
      "|            10 |  6.776237623762376 |  1940828 |\n",
      "|            11 | 6.2575581395348845 |   603364 |\n",
      "|            12 |  6.628671328671329 |  1384102 |\n",
      "+---------------+--------------------+----------+\n"
     ]
    }
   ],
   "source": [
    "!bq query --nouse_legacy_sql \\\n",
    "\"select b.Release_Month, avg(t.averageRating) as averageRating, sum(t.numVotes) as numVotes from datamart.bollywood_dataflow b \\\n",
    "join datamart.title t on t.primaryTitle=b.Title group by b.Release_Month having b.Release_Month is not null order by Release_Month\""
   ]
  },
  {
   "cell_type": "code",
   "execution_count": 3,
   "id": "sticky-honduras",
   "metadata": {},
   "outputs": [
    {
     "name": "stdout",
     "output_type": "stream",
     "text": [
      "Waiting on bqjob_r70883f118517fe31_0000017967623b59_1 ... (0s) Current status: DONE   \n",
      "Created ilitzkyzhou.reports.rating_by_month\n",
      "\n"
     ]
    }
   ],
   "source": [
    "!bq query --nouse_legacy_sql \\\n",
    "\"create view reports.rating_by_month as select b.Release_Month, avg(t.averageRating) as averageRating, sum(t.numVotes) as numVotes from datamart.bollywood_dataflow b \\\n",
    "join datamart.title t on t.primaryTitle=b.Title group by b.Release_Month having b.Release_Month is not null order by Release_Month\""
   ]
  },
  {
   "cell_type": "markdown",
   "id": "industrial-logistics",
   "metadata": {},
   "source": [
    "This isn't a cross-dataset query, I'm just doing it out of personal interest. Checks average Rating and popularity by genre."
   ]
  },
  {
   "cell_type": "code",
   "execution_count": 16,
   "id": "express-louis",
   "metadata": {},
   "outputs": [
    {
     "name": "stdout",
     "output_type": "stream",
     "text": [
      "Waiting on bqjob_r3821c1aa89dc6ce1_0000017967cb4080_1 ... (0s) Current status: DONE   \n",
      "+-------------+--------------------+-----------+\n",
      "|    genre    |   averageRating    | numVotes  |\n",
      "+-------------+--------------------+-----------+\n",
      "| History     |  7.332446937432914 |  33303203 |\n",
      "| Documentary | 7.2289979594811244 |  18929717 |\n",
      "| Mystery     |  7.181210583132897 | 112134515 |\n",
      "| Crime       |  7.158099932196317 | 213624702 |\n",
      "| Biography   |  7.150906492810576 |  62171212 |\n",
      "| Western     |  7.094348390623934 |   9558419 |\n",
      "| Fantasy     |   7.07809810112894 | 103890433 |\n",
      "| Adventure   |  7.064965768439516 | 279336191 |\n",
      "| Animation   |  7.045950224664169 |  80101786 |\n",
      "| Drama       | 7.0332248613497494 | 558512378 |\n",
      "| Family      |  7.031189079208857 |  55074286 |\n",
      "| War         |  7.006997037867262 |  19999179 |\n",
      "| Action      |  6.977362172830778 | 335529337 |\n",
      "| Sport       |  6.964842534992224 |  17190520 |\n",
      "| Comedy      |  6.935881993736659 | 331498753 |\n",
      "| Music       |  6.924303936863354 |  21868669 |\n",
      "| Romance     |  6.846999479853392 | 128931916 |\n",
      "| Game-Show   |  6.839599066318824 |   1188251 |\n",
      "| Reality-TV  |  6.834831971761792 |   2931903 |\n",
      "| Short       |  6.784698975360324 |   7206607 |\n",
      "| Sci-Fi      |  6.760907269425834 | 125841920 |\n",
      "| Talk-Show   |  6.695419804585798 |   1622556 |\n",
      "| News        |  6.586618584583684 |    992561 |\n",
      "| Musical     |  6.578172766180452 |   9367509 |\n",
      "| Film-Noir   |  6.565897435897438 |   3076757 |\n",
      "| \\N          |  6.415257078142698 |    555519 |\n",
      "| Adult       |  6.384473457056539 |    400548 |\n",
      "| Thriller    |  6.327334518691906 | 166886019 |\n",
      "| Horror      |  6.075283670448941 |  91911781 |\n",
      "+-------------+--------------------+-----------+\n"
     ]
    }
   ],
   "source": [
    "!bq query --nouse_legacy_sql \\\n",
    "\"select g.genre, avg(t.averageRating) as averageRating, sum(t.numVotes) as numVotes from datamart.genre_dataflow g join datamart.genre_join_dataflow j on g.genre_id=j.genre_id \\\n",
    "join datamart.title t on t.tconst=j.tconst group by g.genre order by averageRating desc\""
   ]
  },
  {
   "cell_type": "code",
   "execution_count": 12,
   "id": "acute-aircraft",
   "metadata": {},
   "outputs": [
    {
     "name": "stdout",
     "output_type": "stream",
     "text": [
      "Waiting on bqjob_r7b8eea519b465e6d_0000017967c3dc47_1 ... (0s) Current status: DONE   \n",
      "Created ilitzkyzhou.reports.rating_by_genre\n",
      "\n"
     ]
    }
   ],
   "source": [
    "!bq query --nouse_legacy_sql \\\n",
    "\"create view reports.rating_by_genre as select g.genre, avg(t.averageRating) as averageRating, sum(t.numVotes) as numVotes from datamart.genre_dataflow g join datamart.genre_join_dataflow j on g.genre_id=j.genre_id \\\n",
    "join datamart.title t on t.tconst=j.tconst group by g.genre order by averageRating desc\""
   ]
  },
  {
   "cell_type": "code",
   "execution_count": null,
   "id": "coordinate-avenue",
   "metadata": {},
   "outputs": [],
   "source": []
  }
 ],
 "metadata": {
  "environment": {
   "name": "common-cpu.mnightly-2021-01-20-debian-10-test",
   "type": "gcloud",
   "uri": "gcr.io/deeplearning-platform-release/base-cpu:mnightly-2021-01-20-debian-10-test"
  },
  "kernelspec": {
   "display_name": "Python Beam",
   "language": "python",
   "name": "beam_kernel"
  },
  "language_info": {
   "codemirror_mode": {
    "name": "ipython",
    "version": 3
   },
   "file_extension": ".py",
   "mimetype": "text/x-python",
   "name": "python",
   "nbconvert_exporter": "python",
   "pygments_lexer": "ipython3",
   "version": "3.7.9"
  }
 },
 "nbformat": 4,
 "nbformat_minor": 5
}
