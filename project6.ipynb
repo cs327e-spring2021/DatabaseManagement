{
 "cells": [
  {
   "cell_type": "code",
   "execution_count": 2,
   "id": "recent-literature",
   "metadata": {},
   "outputs": [
    {
     "name": "stdout",
     "output_type": "stream",
     "text": [
      "env: CYPHER=/home/jupyter/neo4j-community-4.1.3/bin/cypher-shell\n",
      "env: USER=neo4j\n",
      "env: PW=asdfjkl\n"
     ]
    }
   ],
   "source": [
    "%env CYPHER=/home/jupyter/neo4j-community-4.1.3/bin/cypher-shell\n",
    "%env USER=neo4j\n",
    "%env PW=asdfjkl"
   ]
  },
  {
   "cell_type": "code",
   "execution_count": 3,
   "id": "closing-rescue",
   "metadata": {},
   "outputs": [],
   "source": [
    "CONNECT=\"$CYPHER -u $USER -p $PW\""
   ]
  },
  {
   "cell_type": "code",
   "execution_count": 3,
   "id": "banned-beads",
   "metadata": {},
   "outputs": [
    {
     "name": "stdout",
     "output_type": "stream",
     "text": [
      "0 rows available after 423 ms, consumed after another 0 ms\n",
      "Deleted 171 nodes, Deleted 253 relationships\n"
     ]
    }
   ],
   "source": [
    "!$CONNECT \"MATCH (n) DETACH DELETE n\""
   ]
  },
  {
   "cell_type": "code",
   "execution_count": 4,
   "id": "sticky-helen",
   "metadata": {},
   "outputs": [
    {
     "name": "stdout",
     "output_type": "stream",
     "text": [
      "COUNT(l)\n",
      "5835\n",
      "COUNT(a)\n",
      "42\n",
      "COUNT(n)\n",
      "41\n",
      "COUNT(h)\n",
      "4633\n",
      "COUNT(u)\n",
      "55917\n",
      "COUNT(r)\n",
      "62976\n"
     ]
    }
   ],
   "source": [
    "!cat /home/jupyter/airbnb/load_data.cypher | {CONNECT} --format plain"
   ]
  },
  {
   "cell_type": "code",
   "execution_count": 5,
   "id": "strategic-recall",
   "metadata": {},
   "outputs": [
    {
     "name": "stdout",
     "output_type": "stream",
     "text": [
      "+----------+\n",
      "| count(n) |\n",
      "+----------+\n",
      "| 129444   |\n",
      "+----------+\n",
      "\n",
      "1 row available after 15 ms, consumed after another 1 ms\n"
     ]
    }
   ],
   "source": [
    "!{CONNECT} \"MATCH (n) RETURN count(n)\""
   ]
  },
  {
   "cell_type": "code",
   "execution_count": 6,
   "id": "excited-mortgage",
   "metadata": {},
   "outputs": [
    {
     "name": "stdout",
     "output_type": "stream",
     "text": [
      "+-----------------------------+\n",
      "| labels(n)        | count(n) |\n",
      "+-----------------------------+\n",
      "| [\"Listing\"]      | 5835     |\n",
      "| [\"Amenity\"]      | 42       |\n",
      "| [\"Neighborhood\"] | 41       |\n",
      "| [\"Host\"]         | 4633     |\n",
      "| [\"User\"]         | 55917    |\n",
      "| [\"Review\"]       | 62976    |\n",
      "+-----------------------------+\n",
      "\n",
      "6 rows available after 45 ms, consumed after another 136 ms\n"
     ]
    }
   ],
   "source": [
    "!{CONNECT} \"MATCH (n) RETURN distinct labels(n), count(n)\""
   ]
  },
  {
   "cell_type": "code",
   "execution_count": 13,
   "id": "ignored-disabled",
   "metadata": {},
   "outputs": [
    {
     "name": "stdout",
     "output_type": "stream",
     "text": [
      "+----------------------+\n",
      "| labels(h) | count(h) |\n",
      "+----------------------+\n",
      "| [\"Host\"]  | 4633     |\n",
      "+----------------------+\n",
      "\n",
      "1 row available after 39 ms, consumed after another 64 ms\n"
     ]
    }
   ],
   "source": [
    "!{CONNECT} \"MATCH (h:Host) RETURN distinct labels(h), count(h)\""
   ]
  },
  {
   "cell_type": "code",
   "execution_count": 37,
   "id": "skilled-clerk",
   "metadata": {},
   "outputs": [
    {
     "name": "stdout",
     "output_type": "stream",
     "text": [
      "+-----------------------------------------------------------------------------------------------------------------------------------------------------------------------------------------------------------------------------------------------------------------------------------------------------------------------------------------------------------------------------------------------------------------------------------------------------------------------------------------------------------------------------------------------------------------------------------------------------------------------------------------------------------------------------------------------------------------------------------------------------------------------------------------------------------------------------------------------------------------------------------------------------------------------------------------------------------------------------------------------------------------------------------------------------------------------------------------------------------------------------------------------------+\n",
      "| n                                                                                                                                                                                                                                                                                                                                                                                                                                                                                                                                                                                                                                                                                                                                                                                                                                                                                                                                                                                                                                                                                                                                                   |\n",
      "+-----------------------------------------------------------------------------------------------------------------------------------------------------------------------------------------------------------------------------------------------------------------------------------------------------------------------------------------------------------------------------------------------------------------------------------------------------------------------------------------------------------------------------------------------------------------------------------------------------------------------------------------------------------------------------------------------------------------------------------------------------------------------------------------------------------------------------------------------------------------------------------------------------------------------------------------------------------------------------------------------------------------------------------------------------------------------------------------------------------------------------------------------------+\n",
      "| (:User {name: \"Eva\", user_id: \"3495088\"})                                                                                                                                                                                                                                                                                                                                                                                                                                                                                                                                                                                                                                                                                                                                                                                                                                                                                                                                                                                                                                                                                                           |\n",
      "| (:Review {date: \"2015-05-22\", review_id: \"32822281\", comments: \"House was charming and wonderful and quite spacious; loved the dining room with it's built-in granite top work space that also functions as a coffee bar. The whole place was extremely comfortable. The neighborhood was fantastic- beautiful with great dining spots and close to hot spots and shopping. But as fantastic as all this was, the hosts were what made the stay special. They were patient and helpful with my husband's serious handicaps; they were interesting and fun to talk to - full of energy and humor, but never intrusive and always careful to give us plenty of space. Whole stay was fantastic. If I could give 10 stars, I would.\"})                                                                                                                                                                                                                                                                                                                                                                                                                 |\n",
      "| (:Review {date: \"2014-07-25\", review_id: \"16321486\", comments: \"Me and my girlfriend rented the room in Austin for one week. The house is newly built and designed by Susanna's son who is an architect. The house is beautifully decorated with a nice art collection. It has a beautiful garden and a nice pool which you can step directly outside to from the room that they rent out. Susanna and her husband were very nice and helpful to us. They invited us to dinner once and we also hung out a bit by the pool sometimes. \n",
      "\n",
      "One of the reason being in Austin was to promote my music and their house in South Austin was a perfect place to be in. Close to Downtown and close to among other South Congress where there is a large concentration of bars and resturants.  \"})                                                                                                                                                                                                                                                                                                                                                       |\n",
      "| (:User {name: \"Elena\", user_id: \"5130333\"})                                                                                                                                                                                                                                                                                                                                                                                                                                                                                                                                                                                                                                                                                                                                                                                                                                                                                                                                                                                                                                                                                                         |\n",
      "| (:Review {date: \"2014-09-22\", review_id: \"20041233\", comments: \"Couldn't have asked for a better stay. Edie was extremely accommodating and made us feel welcome in their home. The home was exactly as described in the listing, and was very comfortable for myself and my teammates who stayed. Edie even responded to us at 10:30pm when the smoke detector was going off because the battery backup was low to provide us a new battery. Edie even asked if I needed to be picked up or dropped off at the airport, which you'll be hard pressed to find in any other host.\n",
      "\n",
      "Edie suggested several places around the area that were her favorites, and also provided bikes that we could use to travel around town. We didn't make use of the bikes due to the other activities we already had planned, but they are available for use. The place is close enough to downtown 6th street to walk (about 1.5 miles), but depending on the time of year you may not want to as the weather may not be conducive to do so. \n",
      "\n",
      "Overall, this was a great stay and I would recommend anyone to stay here, and would stay here again myself. \"}) |\n",
      "| (:User {name: \"Maggie\", user_id: \"3756489\"})                                                                                                                                                                                                                                                                                                                                                                                                                                                                                                                                                                                                                                                                                                                                                                                                                                                                                                                                                                                                                                                                                                        |\n",
      "| (:User {name: \"Casey\", user_id: \"695021\"})                                                                                                                                                                                                                                                                                                                                                                                                                                                                                                                                                                                                                                                                                                                                                                                                                                                                                                                                                                                                                                                                                                          |\n",
      "| (:Review {date: \"2014-09-27\", review_id: \"20285175\", comments: \"The location was perfect for me, only a couple of blocks from my film festival.  Alice's place was clean, comfortable, and friendly.  This was the first Air b n b place that had a welcome sign with my name on it.  Alice was very polite and responsive.  I would definitely recommend staying at this property.\"})                                                                                                                                                                                                                                                                                                                                                                                                                                                                                                                                                                                                                                                                                                                                                              |\n",
      "| (:User {name: \"Rob\", user_id: \"18803553\"})                                                                                                                                                                                                                                                                                                                                                                                                                                                                                                                                                                                                                                                                                                                                                                                                                                                                                                                                                                                                                                                                                                          |\n",
      "| (:Review {date: \"2014-10-05\", review_id: \"20752947\", comments: \"The entire experience was better than expected.  East of i35 is a cool area that I've never experienced before. The house itself is very comfortable and offers all the necessary amenities. James constantly checked in on us and made sure we were comfortable and always offered to help if help was needed. I will definitely use his service again.  \"})                                                                                                                                                                                                                                                                                                                                                                                                                                                                                                                                                                                                                                                                                                                       |\n",
      "+-----------------------------------------------------------------------------------------------------------------------------------------------------------------------------------------------------------------------------------------------------------------------------------------------------------------------------------------------------------------------------------------------------------------------------------------------------------------------------------------------------------------------------------------------------------------------------------------------------------------------------------------------------------------------------------------------------------------------------------------------------------------------------------------------------------------------------------------------------------------------------------------------------------------------------------------------------------------------------------------------------------------------------------------------------------------------------------------------------------------------------------------------------+\n",
      "\n",
      "10 rows available after 15 ms, consumed after another 52 ms\n"
     ]
    }
   ],
   "source": [
    "!{CONNECT} \"MATCH (n) WITH n, rand() as r ORDER BY r RETURN n LIMIT 10\""
   ]
  },
  {
   "cell_type": "code",
   "execution_count": 46,
   "id": "gothic-illinois",
   "metadata": {},
   "outputs": [
    {
     "name": "stdout",
     "output_type": "stream",
     "text": [
      "+------------+\n",
      "| h          |\n",
      "+------------+\n",
      "| [:WROTE]   |\n",
      "| [:WROTE]   |\n",
      "| [:WROTE]   |\n",
      "| [:REVIEWS] |\n",
      "| [:REVIEWS] |\n",
      "| [:REVIEWS] |\n",
      "| [:REVIEWS] |\n",
      "| [:REVIEWS] |\n",
      "| [:REVIEWS] |\n",
      "| [:REVIEWS] |\n",
      "+------------+\n",
      "\n",
      "10 rows available after 1 ms, consumed after another 346 ms\n"
     ]
    }
   ],
   "source": [
    "!{CONNECT} \"MATCH () -[h] -> () WITH h, rand() as r ORDER BY r RETURN h LIMIT 10\""
   ]
  },
  {
   "cell_type": "code",
   "execution_count": 21,
   "id": "entitled-setting",
   "metadata": {},
   "outputs": [
    {
     "name": "stdout",
     "output_type": "stream",
     "text": [
      "+----------+\n",
      "| count(h) |\n",
      "+----------+\n",
      "| 4865     |\n",
      "+----------+\n",
      "\n",
      "1 row available after 27 ms, consumed after another 11 ms\n"
     ]
    }
   ],
   "source": [
    "!{CONNECT} \"MATCH (h:Host {{location: 'Austin, Texas, United States'}})-[:HOSTS]->(:Listing) RETURN count(h)\""
   ]
  },
  {
   "cell_type": "code",
   "execution_count": 19,
   "id": "incomplete-wilderness",
   "metadata": {},
   "outputs": [
    {
     "name": "stdout",
     "output_type": "stream",
     "text": [
      "+----------------------------------------------------------------------------------------+\n",
      "| l.name                                | l.property_type | l.price | l.availability_365 |\n",
      "+----------------------------------------------------------------------------------------+\n",
      "| \"1BR Convenient Austin Condo \"        | \"Apartment\"     | 93.0    | 354                |\n",
      "| \"1BR Inviting Downtown Condo, Pool\"   | \"Apartment\"     | 99.0    | 335                |\n",
      "| \"2BR/1.5BA Charming House Off SoCo\"   | \"House\"         | 110.0   | 357                |\n",
      "| \"2BR Prime East-Side Downtown\"        | \"House\"         | 121.0   | 341                |\n",
      "| \"1BR SoCo Treehouse Studio\"           | \"House\"         | 129.0   | 327                |\n",
      "| \"1BR/1.5BA East 6th, Colorful 2Story\" | \"Apartment\"     | 134.0   | 344                |\n",
      "| \"3BR Prestigious Home Travis Heights\" | \"House\"         | 138.0   | 0                  |\n",
      "| \"1BR/1.5BA Perfectly Located Casita\"  | \"House\"         | 140.0   | 351                |\n",
      "| \"3BR/2BA Inviting Retreat off SoCo\"   | \"House\"         | 145.0   | 353                |\n",
      "| \"2BR/2BA Austin Soul Off Soco!\"       | \"House\"         | 149.0   | 334                |\n",
      "+----------------------------------------------------------------------------------------+\n",
      "\n",
      "10 rows available after 43 ms, consumed after another 3 ms\n"
     ]
    }
   ],
   "source": [
    "!{CONNECT} \"MATCH (h:Host {{host_id:'4641823'}})-[:HOSTS]->(l:Listing) RETURN l.name, l.property_type, l.price, l.availability_365 ORDER BY l.price LIMIT 10\""
   ]
  },
  {
   "cell_type": "code",
   "execution_count": 21,
   "id": "neural-walter",
   "metadata": {},
   "outputs": [
    {
     "name": "stdout",
     "output_type": "stream",
     "text": [
      "+--------------------------------+\n",
      "| u.user_id  | u.name            |\n",
      "+--------------------------------+\n",
      "| \"18286390\" | \"Annie\"           |\n",
      "| \"30193020\" | \"Carole\"          |\n",
      "| \"16497582\" | \"Cory\"            |\n",
      "| \"35022795\" | \"Craig And Trina\" |\n",
      "| \"13281665\" | \"Dianne\"          |\n",
      "| \"29601600\" | \"Hannah\"          |\n",
      "| \"11940539\" | \"Jacob\"           |\n",
      "| \"3213433\"  | \"Jessie\"          |\n",
      "| \"41722221\" | \"Johannes\"        |\n",
      "| \"28480571\" | \"Ju-Ju\"           |\n",
      "+--------------------------------+\n",
      "\n",
      "10 rows available after 40 ms, consumed after another 2 ms\n"
     ]
    }
   ],
   "source": [
    "!{CONNECT} \"MATCH (u:User)-[:WROTE]->(r:Review)-[:REVIEWS]->(l:Listing {{ listing_id: '5293632'}}) RETURN u.user_id, u.name ORDER BY u.name LIMIT 10\""
   ]
  },
  {
   "cell_type": "code",
   "execution_count": 10,
   "id": "guided-snake",
   "metadata": {},
   "outputs": [
    {
     "name": "stdout",
     "output_type": "stream",
     "text": [
      "+----------------------------------+\n",
      "| u.user_id  | u.name              |\n",
      "+----------------------------------+\n",
      "| \"7802424\"  | \"(email hidden)\"    |\n",
      "| \"11495251\" | \"(email hidden)\"    |\n",
      "| \"12694638\" | \"(email hidden)\"    |\n",
      "| \"87064\"    | \".Aurora And Jason\" |\n",
      "| \"1639153\"  | \"Aaron\"             |\n",
      "| \"88096\"    | \"Aaron\"             |\n",
      "| \"3576076\"  | \"Aaron\"             |\n",
      "| \"20727881\" | \"Aaron\"             |\n",
      "| \"31112890\" | \"Aaron\"             |\n",
      "| \"39932361\" | \"Aaron\"             |\n",
      "+----------------------------------+\n",
      "\n",
      "10 rows available after 146 ms, consumed after another 3534 ms\n"
     ]
    }
   ],
   "source": [
    "!{CONNECT} \"MATCH (:Amenity {{ name: 'Washer' }})<-[*3]-(u:User)-[*3]->(:Amenity {{ name: 'Dryer'}}) RETURN DISTINCT u.user_id, u.name ORDER BY u.name LIMIT 10\""
   ]
  },
  {
   "cell_type": "code",
   "execution_count": 29,
   "id": "wanted-glenn",
   "metadata": {},
   "outputs": [
    {
     "name": "stdout",
     "output_type": "stream",
     "text": [
      "+----------------------------------------------------------------------------------------+\n",
      "| l.name                                | l.property_type | l.price | l.availability_365 |\n",
      "+----------------------------------------------------------------------------------------+\n",
      "| \"3BR/2.5BA Exquisite Townhouse\"       | \"House\"         | 222.0   | 358                |\n",
      "| \"3BR/2.5BA Tarrytown Duplex, Austin!\" | \"House\"         | 249.0   | 336                |\n",
      "| \"Austin downtown hideaway\"            | \"House\"         | 249.0   | 364                |\n",
      "| \"3BD Luxury Cottage by Lake Austin\"   | \"House\"         | 290.0   | 309                |\n",
      "| \"Entire Adorable Downtown House\"      | \"House\"         | 295.0   | 309                |\n",
      "+----------------------------------------------------------------------------------------+\n",
      "\n",
      "5 rows available after 29 ms, consumed after another 2 ms\n"
     ]
    }
   ],
   "source": [
    "!{CONNECT} \"MATCH (l:Listing {{bedrooms: 3}}) -[:IN_NEIGHBORHOOD]-> (n:Neighborhood {{name: 'Clarksville'}}) RETURN l.name, l.property_type, l.price, l.availability_365 ORDER BY l.price LIMIT 5\""
   ]
  },
  {
   "cell_type": "code",
   "execution_count": 33,
   "id": "worth-russia",
   "metadata": {},
   "outputs": [
    {
     "name": "stdout",
     "output_type": "stream",
     "text": [
      "+---------------------------------------+\n",
      "| a.name                     | count(a) |\n",
      "+---------------------------------------+\n",
      "| \"Air Conditioning\"         | 5615     |\n",
      "| \"Wireless Internet\"        | 5479     |\n",
      "| \"Heating\"                  | 5440     |\n",
      "| \"Kitchen\"                  | 5400     |\n",
      "| \"Free Parking on Premises\" | 5123     |\n",
      "+---------------------------------------+\n",
      "\n",
      "5 rows available after 20 ms, consumed after another 236 ms\n"
     ]
    }
   ],
   "source": [
    "!{CONNECT} \"MATCH (a:Amenity)<-[:HAS]-(l:Listing) RETURN distinct a.name, count(a) ORDER BY count(a) DESC LIMIT 5\""
   ]
  },
  {
   "cell_type": "code",
   "execution_count": 36,
   "id": "personalized-management",
   "metadata": {},
   "outputs": [
    {
     "name": "stdout",
     "output_type": "stream",
     "text": [
      "+-----------------------------------------------------------+\n",
      "| n.name           | n.neighborhood_id | number_of_listings |\n",
      "+-----------------------------------------------------------+\n",
      "| NULL             | \"78704\"           | 1601               |\n",
      "| NULL             | \"78702\"           | 797                |\n",
      "| \"Clarksville\"    | \"78703\"           | 419                |\n",
      "| \"East Riverside\" | \"78741\"           | 414                |\n",
      "| NULL             | \"78745\"           | 328                |\n",
      "+-----------------------------------------------------------+\n",
      "\n",
      "5 rows available after 25 ms, consumed after another 37 ms\n"
     ]
    }
   ],
   "source": [
    "!{CONNECT} \"MATCH (n:Neighborhood)<-[:IN_NEIGHBORHOOD]-(l:Listing) RETURN distinct n.name, n.neighborhood_id, count(n) AS number_of_listings ORDER BY count(n) DESC LIMIT 5\""
   ]
  },
  {
   "cell_type": "code",
   "execution_count": null,
   "id": "personalized-india",
   "metadata": {},
   "outputs": [],
   "source": []
  }
 ],
 "metadata": {
  "environment": {
   "name": "common-cpu.mnightly-2021-01-20-debian-10-test",
   "type": "gcloud",
   "uri": "gcr.io/deeplearning-platform-release/base-cpu:mnightly-2021-01-20-debian-10-test"
  },
  "kernelspec": {
   "display_name": "Python 3",
   "language": "python",
   "name": "python3"
  },
  "language_info": {
   "codemirror_mode": {
    "name": "ipython",
    "version": 3
   },
   "file_extension": ".py",
   "mimetype": "text/x-python",
   "name": "python",
   "nbconvert_exporter": "python",
   "pygments_lexer": "ipython3",
   "version": "3.7.9"
  }
 },
 "nbformat": 4,
 "nbformat_minor": 5
}
