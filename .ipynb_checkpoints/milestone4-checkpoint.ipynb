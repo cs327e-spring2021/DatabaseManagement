{
 "cells": [
  {
   "cell_type": "code",
   "execution_count": 5,
   "id": "sustainable-drove",
   "metadata": {},
   "outputs": [],
   "source": [
    "%run bollywood_actors_dataflow.py"
   ]
  },
  {
   "cell_type": "code",
   "execution_count": 86,
   "id": "adjustable-chair",
   "metadata": {},
   "outputs": [],
   "source": [
    "%run bollywood_dataflow.py"
   ]
  },
  {
   "cell_type": "code",
   "execution_count": 87,
   "id": "double-negative",
   "metadata": {},
   "outputs": [],
   "source": [
    "%run bollywood_actress_dataflow.py"
   ]
  },
  {
   "cell_type": "code",
   "execution_count": 64,
   "id": "detected-indication",
   "metadata": {},
   "outputs": [],
   "source": [
    "%run name_basics_dataflow.py"
   ]
  },
  {
   "cell_type": "code",
   "execution_count": 2,
   "id": "developing-substance",
   "metadata": {},
   "outputs": [],
   "source": [
    "%run genres_join_dataflow.py"
   ]
  },
  {
   "cell_type": "code",
   "execution_count": 39,
   "id": "resistant-sociology",
   "metadata": {},
   "outputs": [],
   "source": [
    "%run genres_dataflow.py"
   ]
  },
  {
   "cell_type": "code",
   "execution_count": 67,
   "id": "mathematical-ticket",
   "metadata": {},
   "outputs": [
    {
     "name": "stdout",
     "output_type": "stream",
     "text": [
      "Waiting on bqjob_r1efa40e98017ac44_0000017964077c52_1 ... (22s) Current status: DONE   \n",
      "Replaced ilitzkyzhou.datamart.genre_join_dataflow\n",
      "\n"
     ]
    }
   ],
   "source": [
    "!bq query --nouse_legacy_sql \\\n",
    "\"create or replace table datamart.genre_join_dataflow as select g.genre_id, j.tconst from datamart.genre_dataflow g join datamart.genre_join_dataflow j on g.genre=j.genre\""
   ]
  },
  {
   "cell_type": "code",
   "execution_count": 55,
   "id": "suspected-necessity",
   "metadata": {},
   "outputs": [
    {
     "name": "stdout",
     "output_type": "stream",
     "text": [
      "Waiting on bqjob_r15f8d2705bae6ea5_0000017963d3e8f4_1 ... (0s) Current status: DONE   \n"
     ]
    }
   ],
   "source": [
    "!bq query --nouse_legacy_sql \\\n",
    "\"select firstName, lastName from datamart.bollywood_actors_dataflow group by firstName, lastName having count(*) > 1\""
   ]
  },
  {
   "cell_type": "code",
   "execution_count": 60,
   "id": "overhead-clark",
   "metadata": {},
   "outputs": [
    {
     "name": "stdout",
     "output_type": "stream",
     "text": [
      "Waiting on bqjob_r403b0c0a03936f9b_0000017963e30101_1 ... (0s) Current status: DONE   \n"
     ]
    }
   ],
   "source": [
    "!bq query --nouse_legacy_sql \\\n",
    "\"select firstName, lastName from datamart.bollywood_actress_dataflow group by firstName, lastName having count(*) > 1\""
   ]
  },
  {
   "cell_type": "code",
   "execution_count": 62,
   "id": "seeing-strand",
   "metadata": {},
   "outputs": [
    {
     "name": "stdout",
     "output_type": "stream",
     "text": [
      "Waiting on bqjob_r196267811792f5aa_0000017963e78325_1 ... (0s) Current status: DONE   \n"
     ]
    }
   ],
   "source": [
    "!bq query --nouse_legacy_sql \\\n",
    "\"select Title, Director from datamart.bollywood_dataflow group by Title, Director having count(*) > 1\""
   ]
  },
  {
   "cell_type": "code",
   "execution_count": 65,
   "id": "surprised-welcome",
   "metadata": {},
   "outputs": [
    {
     "name": "stdout",
     "output_type": "stream",
     "text": [
      "Waiting on bqjob_r64987ef13634702c_000001796404a277_1 ... (9s) Current status: DONE   \n"
     ]
    }
   ],
   "source": [
    "!bq query --nouse_legacy_sql \\\n",
    "\"select nconst from datamart.name_basics_dataflow group by nconst having count(*) > 1\""
   ]
  },
  {
   "cell_type": "code",
   "execution_count": 68,
   "id": "ultimate-miami",
   "metadata": {},
   "outputs": [
    {
     "name": "stdout",
     "output_type": "stream",
     "text": [
      "Waiting on bqjob_r5b66b60a55a30943_00000179640a3db7_1 ... (14s) Current status: DONE   \n"
     ]
    }
   ],
   "source": [
    "!bq query --nouse_legacy_sql \\\n",
    "\"select genre_id, tconst from datamart.genre_join_dataflow group by genre_id,tconst having count(*) > 1\""
   ]
  },
  {
   "cell_type": "code",
   "execution_count": 69,
   "id": "technological-sarah",
   "metadata": {},
   "outputs": [
    {
     "name": "stdout",
     "output_type": "stream",
     "text": [
      "Waiting on bqjob_r46f38b93b90e3f97_00000179640a8478_1 ... (0s) Current status: DONE   \n"
     ]
    }
   ],
   "source": [
    "!bq query --nouse_legacy_sql \\\n",
    "\"select genre_id from datamart.genre_dataflow group by genre_id having count(*) > 1\""
   ]
  },
  {
   "cell_type": "code",
   "execution_count": 71,
   "id": "fewer-architect",
   "metadata": {},
   "outputs": [
    {
     "name": "stdout",
     "output_type": "stream",
     "text": [
      "Waiting on bqjob_r3a48ffc0a50b7a62_000001796413f77a_1 ... (0s) Current status: DONE   \n"
     ]
    }
   ],
   "source": [
    "!bq query --nouse_legacy_sql \\\n",
    "\"select a.firstName, a.lastName from datamart.bollywood_actress_dataflow a left outer join datamart.bollywood_dataflow b on b.Title=a.Debut_aslead_role where b.Title is null\""
   ]
  },
  {
   "cell_type": "markdown",
   "id": "advance-omaha",
   "metadata": {},
   "source": [
    "Distinct primary keys and valid child table references in the tables hold."
   ]
  },
  {
   "cell_type": "markdown",
   "id": "adopted-episode",
   "metadata": {},
   "source": [
    "Due to the limited structure of the bollywood dataset, it is relatively difficult to get any meaningful cross-dataset queries from the data."
   ]
  },
  {
   "cell_type": "markdown",
   "id": "valuable-straight",
   "metadata": {},
   "source": [
    "The goal with this query is to determine whether specific bollywood actresses have an effect on the average rating or the popularity of specific movies. This is done by joining the bollywood_actress_dataflow table with the title table, which has been grouped by its primary Title as the title table contains many duplicates of a primaryTitle."
   ]
  },
  {
   "cell_type": "code",
   "execution_count": 91,
   "id": "literary-howard",
   "metadata": {},
   "outputs": [
    {
     "name": "stdout",
     "output_type": "stream",
     "text": [
      "Waiting on bqjob_r7ed20f73c28a2c88_0000017964a3810f_1 ... (4s) Current status: DONE   \n",
      "+-----------+----------+------------------------------+---------------+----------+\n",
      "| firstName | lastName |         primaryTitle         | averageRating | numVotes |\n",
      "+-----------+----------+------------------------------+---------------+----------+\n",
      "| Soha      | Ali      | Rang De Basanti              |           8.2 |   113139 |\n",
      "| Parveen   | Babi     | Deewaar                      |           8.1 |    10205 |\n",
      "| Ileana    | D'Cruz   | Barfi!                       |           8.1 |    76399 |\n",
      "| Disha     | Patani   | M.S. Dhoni: The Untold Story |           7.8 |    41194 |\n",
      "| Tabu      | \\N       | Maachis                      |           7.8 |     2020 |\n",
      "| Yami      | Gautam   | Vicky Donor                  |           7.8 |    40007 |\n",
      "| Richa     | Chadda   | Oye Lucky! Lucky Oye!        |           7.7 |    16450 |\n",
      "| Prachi    | Desai    | Rock On!!                    |           7.7 |    20972 |\n",
      "| Ritika    | Singh    | Saala Khadoos                |           7.6 |    11458 |\n",
      "| Shilpa    | Shetty   | Baazigar                     |           7.6 |    26152 |\n",
      "+-----------+----------+------------------------------+---------------+----------+\n"
     ]
    }
   ],
   "source": [
    "!bq query --nouse_legacy_sql \\\n",
    "\"select a.firstName, a.lastName, t.primaryTitle, t.averageRating, t.numVotes from datamart.bollywood_actress_dataflow a join \\\n",
    "(select primaryTitle, avg(averageRating) as averageRating, sum(numVotes) as numVotes from datamart.title group by primaryTitle) t on t.primaryTitle=a.Debut_aslead_role \\\n",
    "where t.averageRating is not null order by averageRating desc limit 10\""
   ]
  },
  {
   "cell_type": "markdown",
   "id": "extra-broadcast",
   "metadata": {},
   "source": [
    "We want to see if specific bollywood directors produce better received titles than others. This is done by joining the bollywood_dataflow table with the title table, and comparing the averageRating of each director by grouping by the Director. However, it is possible that the average rating is skewed for some directors with very low movies produced, so we filter out any director who has less than 5 movies directed."
   ]
  },
  {
   "cell_type": "code",
   "execution_count": 97,
   "id": "designed-column",
   "metadata": {},
   "outputs": [
    {
     "name": "stdout",
     "output_type": "stream",
     "text": [
      "Waiting on bqjob_r36eafab221f8d2c3_0000017964b3e37c_1 ... (1s) Current status: DONE   \n",
      "+------------------------+-------------------+-----------+\n",
      "|        Director        |   averageRating   | numMovies |\n",
      "+------------------------+-------------------+-----------+\n",
      "| I. P. Tiwari           |               9.0 |         8 |\n",
      "| Ezra Mir               |               8.7 |        19 |\n",
      "| M. Sadiq, S.U. Sunny   |              8.52 |        24 |\n",
      "| A. N. Bannerjee        |               8.3 |         6 |\n",
      "| H. M. Reddy            |               8.2 |         5 |\n",
      "| Sampooran Singh Gulzar |               8.2 |        11 |\n",
      "| Farhan Akhtar          | 8.133333333333333 |         7 |\n",
      "| V. M. Gunjal           |               8.1 |        12 |\n",
      "| Rajkumar Hirani        |              8.04 |         8 |\n",
      "| Mamasaheb Shinde       |               8.0 |         6 |\n",
      "+------------------------+-------------------+-----------+\n"
     ]
    }
   ],
   "source": [
    "!bq query --nouse_legacy_sql \\\n",
    "\"select b.Director, avg(t.averageRating) as averageRating, count(*) as numMovies from datamart.bollywood_dataflow b join datamart.title t on t.primaryTitle=b.Title \\\n",
    "group by b.Director having numMovies >= 5 order by averageRating desc limit 10\""
   ]
  },
  {
   "cell_type": "markdown",
   "id": "placed-senator",
   "metadata": {},
   "source": [
    "We are aiming to see whether the month a movie was released in has any impact on its average rating, or the number of votes. This is done by joining the bollywood_dataflow table with the title table, and grouping the average rating and the total number of votes with the release month, which tells us the average rating and the total number of votes per month."
   ]
  },
  {
   "cell_type": "code",
   "execution_count": 51,
   "id": "nutritional-metro",
   "metadata": {},
   "outputs": [
    {
     "name": "stdout",
     "output_type": "stream",
     "text": [
      "Waiting on bqjob_r6ea0e85ed952cc58_0000017963bac592_1 ... (1s) Current status: DONE   \n",
      "+---------------+--------------------+----------+\n",
      "| Release_Month |   averageRating    | numVotes |\n",
      "+---------------+--------------------+----------+\n",
      "|             1 |  6.611343283582088 |  1018162 |\n",
      "|             2 | 6.4373493975903635 |  1110583 |\n",
      "|             3 |   6.70439276485788 |   596763 |\n",
      "|             4 |  6.665902578796562 |   459825 |\n",
      "|             5 | 6.5424124513618676 |   855088 |\n",
      "|             6 |  6.353723404255319 |   556955 |\n",
      "|             7 |  6.320652173913045 |   786715 |\n",
      "|             8 | 6.5854838709677415 |  1907714 |\n",
      "|             9 |  6.599770642201834 |  1437652 |\n",
      "|            10 |  6.776237623762376 |  1940828 |\n",
      "|            11 | 6.2575581395348845 |   603364 |\n",
      "|            12 |  6.628671328671329 |  1384102 |\n",
      "+---------------+--------------------+----------+\n"
     ]
    }
   ],
   "source": [
    "!bq query --nouse_legacy_sql \\\n",
    "\"select b.Release_Month, avg(t.averageRating) as averageRating, sum(t.numVotes) as numVotes from datamart.bollywood_dataflow b join datamart.title t on t.primaryTitle=b.Title group by b.Release_Month having b.Release_Month is not null order by Release_Month\""
   ]
  },
  {
   "cell_type": "code",
   "execution_count": null,
   "id": "racial-wrist",
   "metadata": {},
   "outputs": [],
   "source": []
  }
 ],
 "metadata": {
  "environment": {
   "name": "common-cpu.mnightly-2021-01-20-debian-10-test",
   "type": "gcloud",
   "uri": "gcr.io/deeplearning-platform-release/base-cpu:mnightly-2021-01-20-debian-10-test"
  },
  "kernelspec": {
   "display_name": "Python Beam",
   "language": "python",
   "name": "beam_kernel"
  },
  "language_info": {
   "codemirror_mode": {
    "name": "ipython",
    "version": 3
   },
   "file_extension": ".py",
   "mimetype": "text/x-python",
   "name": "python",
   "nbconvert_exporter": "python",
   "pygments_lexer": "ipython3",
   "version": "3.7.9"
  }
 },
 "nbformat": 4,
 "nbformat_minor": 5
}
